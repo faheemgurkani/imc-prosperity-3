{
 "cells": [
  {
   "cell_type": "markdown",
   "metadata": {},
   "source": [
    "# Setup and Imports"
   ]
  },
  {
   "cell_type": "code",
   "execution_count": 1,
   "metadata": {},
   "outputs": [],
   "source": [
    "import pandas as pd"
   ]
  },
  {
   "cell_type": "markdown",
   "metadata": {},
   "source": [
    "# Round 0"
   ]
  },
  {
   "cell_type": "markdown",
   "metadata": {},
   "source": [
    "### Loading the data"
   ]
  },
  {
   "cell_type": "code",
   "execution_count": 8,
   "metadata": {},
   "outputs": [],
   "source": [
    "data = pd.read_csv('../../data/round0.csv')"
   ]
  },
  {
   "cell_type": "markdown",
   "metadata": {},
   "source": [
    "### EDA"
   ]
  },
  {
   "cell_type": "code",
   "execution_count": 10,
   "metadata": {},
   "outputs": [
    {
     "data": {
      "application/vnd.microsoft.datawrangler.viewer.v0+json": {
       "columns": [
        {
         "name": "index",
         "rawType": "int64",
         "type": "integer"
        },
        {
         "name": "day",
         "rawType": "int64",
         "type": "integer"
        },
        {
         "name": "timestamp",
         "rawType": "int64",
         "type": "integer"
        },
        {
         "name": "product",
         "rawType": "object",
         "type": "string"
        },
        {
         "name": "bid_price_1",
         "rawType": "int64",
         "type": "integer"
        },
        {
         "name": "bid_volume_1",
         "rawType": "int64",
         "type": "integer"
        },
        {
         "name": "bid_price_2",
         "rawType": "float64",
         "type": "float"
        },
        {
         "name": "bid_volume_2",
         "rawType": "float64",
         "type": "float"
        },
        {
         "name": "bid_price_3",
         "rawType": "float64",
         "type": "float"
        },
        {
         "name": "bid_volume_3",
         "rawType": "float64",
         "type": "float"
        },
        {
         "name": "ask_price_1",
         "rawType": "int64",
         "type": "integer"
        },
        {
         "name": "ask_volume_1",
         "rawType": "int64",
         "type": "integer"
        },
        {
         "name": "ask_price_2",
         "rawType": "float64",
         "type": "float"
        },
        {
         "name": "ask_volume_2",
         "rawType": "float64",
         "type": "float"
        },
        {
         "name": "ask_price_3",
         "rawType": "float64",
         "type": "float"
        },
        {
         "name": "ask_volume_3",
         "rawType": "float64",
         "type": "float"
        },
        {
         "name": "mid_price",
         "rawType": "float64",
         "type": "float"
        },
        {
         "name": "profit_and_loss",
         "rawType": "float64",
         "type": "float"
        }
       ],
       "conversionMethod": "pd.DataFrame",
       "ref": "d2e1ef58-b17d-458a-a658-a546ecb81f8e",
       "rows": [
        [
         "0",
         "-1",
         "0",
         "RAINFOREST_RESIN",
         "10002",
         "1",
         "9996.0",
         "2.0",
         "9995.0",
         "29.0",
         "10004",
         "2",
         "10005.0",
         "29.0",
         null,
         null,
         "10003.0",
         "0.0"
        ],
        [
         "1",
         "-1",
         "0",
         "KELP",
         "2028",
         "1",
         "2026.0",
         "2.0",
         "2025.0",
         "29.0",
         "2029",
         "31",
         null,
         null,
         null,
         null,
         "2028.5",
         "0.0"
        ],
        [
         "2",
         "-1",
         "100",
         "KELP",
         "2025",
         "24",
         null,
         null,
         null,
         null,
         "2028",
         "2",
         "2029.0",
         "22.0",
         null,
         null,
         "2026.5",
         "17.361328125"
        ],
        [
         "3",
         "-1",
         "100",
         "RAINFOREST_RESIN",
         "9996",
         "2",
         "9995.0",
         "22.0",
         null,
         null,
         "10004",
         "2",
         "10005.0",
         "22.0",
         null,
         null,
         "10000.0",
         "-151.0"
        ],
        [
         "4",
         "-1",
         "200",
         "RAINFOREST_RESIN",
         "9995",
         "20",
         null,
         null,
         null,
         null,
         "10005",
         "20",
         null,
         null,
         null,
         null,
         "10000.0",
         "-239.0"
        ]
       ],
       "shape": {
        "columns": 17,
        "rows": 5
       }
      },
      "text/html": [
       "<div>\n",
       "<style scoped>\n",
       "    .dataframe tbody tr th:only-of-type {\n",
       "        vertical-align: middle;\n",
       "    }\n",
       "\n",
       "    .dataframe tbody tr th {\n",
       "        vertical-align: top;\n",
       "    }\n",
       "\n",
       "    .dataframe thead th {\n",
       "        text-align: right;\n",
       "    }\n",
       "</style>\n",
       "<table border=\"1\" class=\"dataframe\">\n",
       "  <thead>\n",
       "    <tr style=\"text-align: right;\">\n",
       "      <th></th>\n",
       "      <th>day</th>\n",
       "      <th>timestamp</th>\n",
       "      <th>product</th>\n",
       "      <th>bid_price_1</th>\n",
       "      <th>bid_volume_1</th>\n",
       "      <th>bid_price_2</th>\n",
       "      <th>bid_volume_2</th>\n",
       "      <th>bid_price_3</th>\n",
       "      <th>bid_volume_3</th>\n",
       "      <th>ask_price_1</th>\n",
       "      <th>ask_volume_1</th>\n",
       "      <th>ask_price_2</th>\n",
       "      <th>ask_volume_2</th>\n",
       "      <th>ask_price_3</th>\n",
       "      <th>ask_volume_3</th>\n",
       "      <th>mid_price</th>\n",
       "      <th>profit_and_loss</th>\n",
       "    </tr>\n",
       "  </thead>\n",
       "  <tbody>\n",
       "    <tr>\n",
       "      <th>0</th>\n",
       "      <td>-1</td>\n",
       "      <td>0</td>\n",
       "      <td>RAINFOREST_RESIN</td>\n",
       "      <td>10002</td>\n",
       "      <td>1</td>\n",
       "      <td>9996.0</td>\n",
       "      <td>2.0</td>\n",
       "      <td>9995.0</td>\n",
       "      <td>29.0</td>\n",
       "      <td>10004</td>\n",
       "      <td>2</td>\n",
       "      <td>10005.0</td>\n",
       "      <td>29.0</td>\n",
       "      <td>NaN</td>\n",
       "      <td>NaN</td>\n",
       "      <td>10003.0</td>\n",
       "      <td>0.000000</td>\n",
       "    </tr>\n",
       "    <tr>\n",
       "      <th>1</th>\n",
       "      <td>-1</td>\n",
       "      <td>0</td>\n",
       "      <td>KELP</td>\n",
       "      <td>2028</td>\n",
       "      <td>1</td>\n",
       "      <td>2026.0</td>\n",
       "      <td>2.0</td>\n",
       "      <td>2025.0</td>\n",
       "      <td>29.0</td>\n",
       "      <td>2029</td>\n",
       "      <td>31</td>\n",
       "      <td>NaN</td>\n",
       "      <td>NaN</td>\n",
       "      <td>NaN</td>\n",
       "      <td>NaN</td>\n",
       "      <td>2028.5</td>\n",
       "      <td>0.000000</td>\n",
       "    </tr>\n",
       "    <tr>\n",
       "      <th>2</th>\n",
       "      <td>-1</td>\n",
       "      <td>100</td>\n",
       "      <td>KELP</td>\n",
       "      <td>2025</td>\n",
       "      <td>24</td>\n",
       "      <td>NaN</td>\n",
       "      <td>NaN</td>\n",
       "      <td>NaN</td>\n",
       "      <td>NaN</td>\n",
       "      <td>2028</td>\n",
       "      <td>2</td>\n",
       "      <td>2029.0</td>\n",
       "      <td>22.0</td>\n",
       "      <td>NaN</td>\n",
       "      <td>NaN</td>\n",
       "      <td>2026.5</td>\n",
       "      <td>17.361328</td>\n",
       "    </tr>\n",
       "    <tr>\n",
       "      <th>3</th>\n",
       "      <td>-1</td>\n",
       "      <td>100</td>\n",
       "      <td>RAINFOREST_RESIN</td>\n",
       "      <td>9996</td>\n",
       "      <td>2</td>\n",
       "      <td>9995.0</td>\n",
       "      <td>22.0</td>\n",
       "      <td>NaN</td>\n",
       "      <td>NaN</td>\n",
       "      <td>10004</td>\n",
       "      <td>2</td>\n",
       "      <td>10005.0</td>\n",
       "      <td>22.0</td>\n",
       "      <td>NaN</td>\n",
       "      <td>NaN</td>\n",
       "      <td>10000.0</td>\n",
       "      <td>-151.000000</td>\n",
       "    </tr>\n",
       "    <tr>\n",
       "      <th>4</th>\n",
       "      <td>-1</td>\n",
       "      <td>200</td>\n",
       "      <td>RAINFOREST_RESIN</td>\n",
       "      <td>9995</td>\n",
       "      <td>20</td>\n",
       "      <td>NaN</td>\n",
       "      <td>NaN</td>\n",
       "      <td>NaN</td>\n",
       "      <td>NaN</td>\n",
       "      <td>10005</td>\n",
       "      <td>20</td>\n",
       "      <td>NaN</td>\n",
       "      <td>NaN</td>\n",
       "      <td>NaN</td>\n",
       "      <td>NaN</td>\n",
       "      <td>10000.0</td>\n",
       "      <td>-239.000000</td>\n",
       "    </tr>\n",
       "  </tbody>\n",
       "</table>\n",
       "</div>"
      ],
      "text/plain": [
       "   day  timestamp           product  bid_price_1  bid_volume_1  bid_price_2  \\\n",
       "0   -1          0  RAINFOREST_RESIN        10002             1       9996.0   \n",
       "1   -1          0              KELP         2028             1       2026.0   \n",
       "2   -1        100              KELP         2025            24          NaN   \n",
       "3   -1        100  RAINFOREST_RESIN         9996             2       9995.0   \n",
       "4   -1        200  RAINFOREST_RESIN         9995            20          NaN   \n",
       "\n",
       "   bid_volume_2  bid_price_3  bid_volume_3  ask_price_1  ask_volume_1  \\\n",
       "0           2.0       9995.0          29.0        10004             2   \n",
       "1           2.0       2025.0          29.0         2029            31   \n",
       "2           NaN          NaN           NaN         2028             2   \n",
       "3          22.0          NaN           NaN        10004             2   \n",
       "4           NaN          NaN           NaN        10005            20   \n",
       "\n",
       "   ask_price_2  ask_volume_2  ask_price_3  ask_volume_3  mid_price  \\\n",
       "0      10005.0          29.0          NaN           NaN    10003.0   \n",
       "1          NaN           NaN          NaN           NaN     2028.5   \n",
       "2       2029.0          22.0          NaN           NaN     2026.5   \n",
       "3      10005.0          22.0          NaN           NaN    10000.0   \n",
       "4          NaN           NaN          NaN           NaN    10000.0   \n",
       "\n",
       "   profit_and_loss  \n",
       "0         0.000000  \n",
       "1         0.000000  \n",
       "2        17.361328  \n",
       "3      -151.000000  \n",
       "4      -239.000000  "
      ]
     },
     "execution_count": 10,
     "metadata": {},
     "output_type": "execute_result"
    }
   ],
   "source": [
    "data.head()"
   ]
  },
  {
   "cell_type": "code",
   "execution_count": 13,
   "metadata": {},
   "outputs": [
    {
     "data": {
      "text/plain": [
       "day                  int64\n",
       "timestamp            int64\n",
       "product             object\n",
       "bid_price_1          int64\n",
       "bid_volume_1         int64\n",
       "bid_price_2        float64\n",
       "bid_volume_2       float64\n",
       "bid_price_3        float64\n",
       "bid_volume_3       float64\n",
       "ask_price_1          int64\n",
       "ask_volume_1         int64\n",
       "ask_price_2        float64\n",
       "ask_volume_2       float64\n",
       "ask_price_3        float64\n",
       "ask_volume_3       float64\n",
       "mid_price          float64\n",
       "profit_and_loss    float64\n",
       "dtype: object"
      ]
     },
     "execution_count": 13,
     "metadata": {},
     "output_type": "execute_result"
    }
   ],
   "source": [
    "# Determining the data types of each column\n",
    "data.dtypes"
   ]
  },
  {
   "cell_type": "code",
   "execution_count": 12,
   "metadata": {},
   "outputs": [
    {
     "data": {
      "text/plain": [
       "day                   0\n",
       "timestamp             0\n",
       "product               0\n",
       "bid_price_1           0\n",
       "bid_volume_1          0\n",
       "bid_price_2        2154\n",
       "bid_volume_2       2154\n",
       "bid_price_3        3616\n",
       "bid_volume_3       3616\n",
       "ask_price_1           0\n",
       "ask_volume_1          0\n",
       "ask_price_2        2062\n",
       "ask_volume_2       2062\n",
       "ask_price_3        3652\n",
       "ask_volume_3       3652\n",
       "mid_price             0\n",
       "profit_and_loss       0\n",
       "dtype: int64"
      ]
     },
     "execution_count": 12,
     "metadata": {},
     "output_type": "execute_result"
    }
   ],
   "source": [
    "# Calculating the sum of missing values for each column of the dataframe\n",
    "data.isnull().sum()"
   ]
  },
  {
   "cell_type": "code",
   "execution_count": 11,
   "metadata": {},
   "outputs": [
    {
     "name": "stdout",
     "output_type": "stream",
     "text": [
      "Overall Profit or Loss: 136366.109375\n"
     ]
    }
   ],
   "source": [
    "# Calculating the overall profit or loss\n",
    "overall_profit_or_loss = data['profit_and_loss'].sum()\n",
    "\n",
    "print(f\"Overall Profit or Loss: {overall_profit_or_loss}\")"
   ]
  }
 ],
 "metadata": {
  "kernelspec": {
   "display_name": "Python 3",
   "language": "python",
   "name": "python3"
  },
  "language_info": {
   "codemirror_mode": {
    "name": "ipython",
    "version": 3
   },
   "file_extension": ".py",
   "mimetype": "text/x-python",
   "name": "python",
   "nbconvert_exporter": "python",
   "pygments_lexer": "ipython3",
   "version": "3.12.1"
  }
 },
 "nbformat": 4,
 "nbformat_minor": 2
}
